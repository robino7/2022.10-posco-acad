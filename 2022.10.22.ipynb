{
 "cells": [
  {
   "cell_type": "code",
   "execution_count": 11,
   "id": "94ab0abc",
   "metadata": {},
   "outputs": [
    {
     "data": {
      "text/plain": [
       "'I eat 3 apples.'"
      ]
     },
     "execution_count": 11,
     "metadata": {},
     "output_type": "execute_result"
    }
   ],
   "source": [
    "\"I eat %d apples.\" % 3"
   ]
  },
  {
   "cell_type": "code",
   "execution_count": 12,
   "id": "d3b58649",
   "metadata": {},
   "outputs": [
    {
     "data": {
      "text/plain": [
       "'I ate 10 apples. So i was sick for Three days.'"
      ]
     },
     "execution_count": 12,
     "metadata": {},
     "output_type": "execute_result"
    }
   ],
   "source": [
    "number = 10\n",
    "day = \"Three\"\n",
    "\"I ate %d apples. So i was sick for %s days.\" % (number, day)"
   ]
  },
  {
   "cell_type": "code",
   "execution_count": 17,
   "id": "86449732",
   "metadata": {},
   "outputs": [
    {
     "name": "stdout",
     "output_type": "stream",
     "text": [
      "970505\n",
      "1234567\n"
     ]
    }
   ],
   "source": [
    "# 연습문제 1\n",
    "a = '970505-1234567'\n",
    "print(a[:6])\n",
    "print(a[7:])"
   ]
  },
  {
   "cell_type": "code",
   "execution_count": 21,
   "id": "b54db8f3",
   "metadata": {},
   "outputs": [
    {
     "name": "stdout",
     "output_type": "stream",
     "text": [
      "[6, 5, 4, 3, 2, 1]\n"
     ]
    }
   ],
   "source": [
    "# 연습문제 2\n",
    "a = [1, 3, 5, 4, 2]\n",
    "a.append(6)\n",
    "a.sort()\n",
    "a.reverse()\n",
    "print(a)"
   ]
  },
  {
   "cell_type": "code",
   "execution_count": 24,
   "id": "ef5b144c",
   "metadata": {},
   "outputs": [
    {
     "data": {
      "text/plain": [
       "90"
      ]
     },
     "execution_count": 24,
     "metadata": {},
     "output_type": "execute_result"
    }
   ],
   "source": [
    "a = {'국어': 90, '수학': 90, '영어': 70}\n",
    "#a['수학']\n",
    "a.get('수학')"
   ]
  },
  {
   "cell_type": "code",
   "execution_count": 32,
   "id": "f66bf6e4",
   "metadata": {},
   "outputs": [
    {
     "data": {
      "text/plain": [
       "{'d', 'e', 'h', 'l', 'o'}"
      ]
     },
     "execution_count": 32,
     "metadata": {},
     "output_type": "execute_result"
    }
   ],
   "source": [
    "s = set('hellodooo')\n",
    "s"
   ]
  },
  {
   "cell_type": "code",
   "execution_count": 34,
   "id": "bc4ec96a",
   "metadata": {},
   "outputs": [
    {
     "data": {
      "text/plain": [
       "{1, 2, 3, 4, 5}"
      ]
     },
     "execution_count": 34,
     "metadata": {},
     "output_type": "execute_result"
    }
   ],
   "source": [
    "a  = [1,1,1,2,2,3,3,4,5,5,5]\n",
    "s = set(a)\n",
    "s"
   ]
  },
  {
   "cell_type": "code",
   "execution_count": 38,
   "id": "976afae4",
   "metadata": {},
   "outputs": [
    {
     "name": "stdout",
     "output_type": "stream",
     "text": [
      "166833\n"
     ]
    }
   ],
   "source": [
    "# 1\n",
    "sum = 0\n",
    "i = 1\n",
    "while i < 1001:\n",
    "    if i % 3 == 0:\n",
    "        sum += i\n",
    "    i+=1\n",
    "print(sum)"
   ]
  },
  {
   "cell_type": "code",
   "execution_count": 39,
   "id": "25a29a46",
   "metadata": {},
   "outputs": [
    {
     "name": "stdout",
     "output_type": "stream",
     "text": [
      "*\n",
      "**\n",
      "***\n",
      "****\n",
      "*****\n"
     ]
    }
   ],
   "source": [
    "# 2\n",
    "i = 0\n",
    "while i < 5:\n",
    "    print('*'*(i+1))\n",
    "    i+=1"
   ]
  },
  {
   "cell_type": "code",
   "execution_count": 41,
   "id": "e35e748c",
   "metadata": {},
   "outputs": [
    {
     "data": {
      "text/plain": [
       "79.0"
      ]
     },
     "execution_count": 41,
     "metadata": {},
     "output_type": "execute_result"
    }
   ],
   "source": [
    "# 3\n",
    "scores = [70, 60, 55, 75, 95, 90, 80, 80, 85, 100]\n",
    "sum = 0\n",
    "for s in scores:\n",
    "    sum += s\n",
    "mean = sum / len(scores)\n",
    "mean"
   ]
  },
  {
   "cell_type": "code",
   "execution_count": 45,
   "id": "e6ee5026",
   "metadata": {},
   "outputs": [
    {
     "name": "stdout",
     "output_type": "stream",
     "text": [
      "흑돌의 개수 : 17\n",
      "백돌의 개수 : 16\n"
     ]
    }
   ],
   "source": [
    "# 4-1\n",
    "stone = [[0, 0, 0, 0, 0, 0, 0, 0, 0],\n",
    "        [0, 1, 0, 1, 2, 1, 2, 1, 0],\n",
    "        [0, 2, 1, 1, 1, 2, 2, 0, 0],\n",
    "        [0, 0, 2, 2, 2, 1, 0, 2, 0],\n",
    "        [0, 0, 0, 0, 0, 1, 0, 2, 1],\n",
    "        [0, 0, 0, 2, 0, 1, 2, 1, 0],\n",
    "        [0, 0, 0, 2, 1, 0, 1, 1, 0],\n",
    "        [0, 0, 0, 1, 1, 0, 0, 0, 0],\n",
    "        [0, 0, 0, 0, 2, 2, 2, 0, 0]]\n",
    "black = 0\n",
    "white = 0\n",
    "for row in stone:\n",
    "    for e in row:\n",
    "        if e == 1:\n",
    "            black += 1\n",
    "        elif e == 2:\n",
    "            white += 1\n",
    "print('흑돌의 개수 : %d' % black)\n",
    "print('백돌의 개수 : %d' % white)"
   ]
  },
  {
   "cell_type": "code",
   "execution_count": 94,
   "id": "780081bb",
   "metadata": {},
   "outputs": [
    {
     "name": "stdout",
     "output_type": "stream",
     "text": [
      "  X  X  X  X  X  X  X  X  X\n",
      "  X ●  X ● ○ ● ○ ●  X\n",
      "  X ○ ● ● ● ○ ○  X  X\n",
      "  X  X ○ ○ ○ ●  X ○  X\n",
      "  X  X  X  X  X ●  X ○ ●\n",
      "  X  X  X ○  X ● ○ ●  X\n",
      "  X  X  X ○ ●  X ● ●  X\n",
      "  X  X  X ● ●  X  X  X  X\n",
      "  X  X  X  X ○ ○ ○  X  X\n"
     ]
    }
   ],
   "source": [
    "# 4-2\n",
    "stone = [[0, 0, 0, 0, 0, 0, 0, 0, 0],\n",
    "        [0, 1, 0, 1, 2, 1, 2, 1, 0],\n",
    "        [0, 2, 1, 1, 1, 2, 2, 0, 0],\n",
    "        [0, 0, 2, 2, 2, 1, 0, 2, 0],\n",
    "        [0, 0, 0, 0, 0, 1, 0, 2, 1],\n",
    "        [0, 0, 0, 2, 0, 1, 2, 1, 0],\n",
    "        [0, 0, 0, 2, 1, 0, 1, 1, 0],\n",
    "        [0, 0, 0, 1, 1, 0, 0, 0, 0],\n",
    "        [0, 0, 0, 0, 2, 2, 2, 0, 0]]\n",
    "\n",
    "# 조교님 코드\n",
    "# for i in range(len(stone)):\n",
    "#     for i in range(len(stone[i])):\n",
    "\n",
    "\n",
    "for row in stone:\n",
    "    for e in row:\n",
    "        if e == 1:\n",
    "            print('%2s' %'●', end = '')\n",
    "        elif e == 2:\n",
    "            print('%2s' %'○', end = '')\n",
    "        else:\n",
    "            print('%3s' %'X', end = '')\n",
    "    print('')"
   ]
  },
  {
   "cell_type": "code",
   "execution_count": 98,
   "id": "95bd4323",
   "metadata": {},
   "outputs": [
    {
     "name": "stdout",
     "output_type": "stream",
     "text": [
      "    1  2  3  4  5  6  7  8  9  \n",
      "1   X  X  X  X  X  X  X  X  X\n",
      "2   X ●  X ● ○ ● ○ ●  X\n",
      "3   X ○ ● ● ● ○ ○  X  X\n",
      "4   X  X ○ ○ ○ ●  X ○  X\n",
      "5   X  X  X  X  X ●  X ○ ●\n",
      "6   X  X  X ○  X ● ○ ●  X\n",
      "7   X  X  X ○ ●  X ● ●  X\n",
      "8   X  X  X ● ●  X  X  X  X\n",
      "9   X  X  X  X ○ ○ ○  X  X\n"
     ]
    }
   ],
   "source": [
    "# 4-3\n",
    "stone = [[0, 0, 0, 0, 0, 0, 0, 0, 0],\n",
    "        [0, 1, 0, 1, 2, 1, 2, 1, 0],\n",
    "        [0, 2, 1, 1, 1, 2, 2, 0, 0],\n",
    "        [0, 0, 2, 2, 2, 1, 0, 2, 0],\n",
    "        [0, 0, 0, 0, 0, 1, 0, 2, 1],\n",
    "        [0, 0, 0, 2, 0, 1, 2, 1, 0],\n",
    "        [0, 0, 0, 2, 1, 0, 1, 1, 0],\n",
    "        [0, 0, 0, 1, 1, 0, 0, 0, 0],\n",
    "        [0, 0, 0, 0, 2, 2, 2, 0, 0]]\n",
    "\n",
    "column = len(stone[0])\n",
    "print('%4s' %' ',end = '')\n",
    "for i in range(column): print(i + 1, \" \", end = '')\n",
    "print('')\n",
    "    \n",
    "for row in stone:\n",
    "    print(stone.index(row) + 1, end=' ')\n",
    "    for e in row:\n",
    "        if e == 1:\n",
    "            print('%2s' %'●', end = '')\n",
    "        elif e == 2:\n",
    "            print('%2s' %'○', end = '')\n",
    "        else:\n",
    "            print('%3s' %'X', end = '')\n",
    "    print('')"
   ]
  },
  {
   "cell_type": "code",
   "execution_count": 71,
   "id": "068683ab",
   "metadata": {},
   "outputs": [
    {
     "name": "stdout",
     "output_type": "stream",
     "text": [
      "X축 좌표값을 입력하세요(1~9, 종료 시 -1 입력) : 9\n",
      "Y축 좌표값을 입력하세요(1~9, 종료 시 -1 입력) : 5\n",
      "흑돌\n"
     ]
    }
   ],
   "source": [
    "# 4-4\n",
    "start = int(input('X축 좌표값을 입력하세요(1~9, 종료 시 -1 입력) : '))\n",
    "if start == -1:\n",
    "    print('종료되었습니다!')\n",
    "else:\n",
    "    stone = [[0, 0, 0, 0, 0, 0, 0, 0, 0],\n",
    "        [0, 1, 0, 1, 2, 1, 2, 1, 0],\n",
    "        [0, 2, 1, 1, 1, 2, 2, 0, 0],\n",
    "        [0, 0, 2, 2, 2, 1, 0, 2, 0],\n",
    "        [0, 0, 0, 0, 0, 1, 0, 2, 1],\n",
    "        [0, 0, 0, 2, 0, 1, 2, 1, 0],\n",
    "        [0, 0, 0, 2, 1, 0, 1, 1, 0],\n",
    "        [0, 0, 0, 1, 1, 0, 0, 0, 0],\n",
    "        [0, 0, 0, 0, 2, 2, 2, 0, 0]]\n",
    "    x = start\n",
    "    y = int(input('Y축 좌표값을 입력하세요(1~9, 종료 시 -1 입력) : '))\n",
    "    \n",
    "    i = 1\n",
    "    for row in stone:\n",
    "        j = 1\n",
    "        for e in row:\n",
    "            if j == x and i == y:\n",
    "                if e == 1:\n",
    "                    print('흑돌')\n",
    "                elif e == 2:\n",
    "                    print('백돌')\n",
    "                else:\n",
    "                    print('돌없음')\n",
    "            j += 1\n",
    "        i += 1"
   ]
  },
  {
   "cell_type": "code",
   "execution_count": 78,
   "id": "5da9482c",
   "metadata": {},
   "outputs": [
    {
     "name": "stdout",
     "output_type": "stream",
     "text": [
      "1. 아이디 : kim, 마일리지 : 15000점\n",
      "2. 아이디 : lee, 마일리지 : 7000점\n",
      "3. 아이디 : kwon, 마일리지 : 8000점\n",
      "4. 아이디 : roro, 마일리지 : 12000점\n",
      "5. 아이디 : hwang, 마일리지 : 19000점\n"
     ]
    }
   ],
   "source": [
    "# 5-1\n",
    "dic = {'ID': ['kim', 'lee', 'kwon', 'roro', 'hwang'], \n",
    "       'POINT': [15000, 7000, 8000, 12000, 19000]}\n",
    "cnt = len(dic['ID'])\n",
    "for i in range(cnt):\n",
    "    print('%d. 아이디 : %s, 마일리지 : %d점' % (i+1, dic['ID'][i], dic['POINT'][i]))\n"
   ]
  },
  {
   "cell_type": "code",
   "execution_count": 80,
   "id": "9fcb7f55",
   "metadata": {},
   "outputs": [
    {
     "name": "stdout",
     "output_type": "stream",
     "text": [
      "1. 아이디 : kim, 마일리지 : 15000점\n",
      "2. 아이디 : lee, 마일리지 : 10000점\n",
      "3. 아이디 : kwon, 마일리지 : 8000점\n",
      "4. 아이디 : roro, 마일리지 : 12000점\n",
      "5. 아이디 : hwang, 마일리지 : 19000점\n"
     ]
    }
   ],
   "source": [
    "# 5-2\n",
    "dic = {'ID': ['kim', 'lee', 'kwon', 'roro', 'hwang'], \n",
    "       'POINT': [15000, 7000, 8000, 12000, 19000]}\n",
    "cnt = len(dic['ID'])\n",
    "\n",
    "idx = dic['ID'].index('lee')\n",
    "dic['POINT'][idx] = 10000\n",
    "\n",
    "for i in range(cnt):\n",
    "    print('%d. 아이디 : %s, 마일리지 : %d점' % (i+1, dic['ID'][i], dic['POINT'][i]))"
   ]
  },
  {
   "cell_type": "code",
   "execution_count": 84,
   "id": "e016061b",
   "metadata": {},
   "outputs": [
    {
     "name": "stdout",
     "output_type": "stream",
     "text": [
      "1. 아이디 : kim, 마일리지 : 15000점\n",
      "2. 아이디 : lee, 마일리지 : 7000점\n",
      "3. 아이디 : kwon, 마일리지 : 8000점\n",
      "4. 아이디 : roro, 마일리지 : 12000점\n",
      "5. 아이디 : hwang, 마일리지 : 19000점\n",
      "6. 아이디 : kang, 마일리지 : 7000점\n"
     ]
    }
   ],
   "source": [
    "# 5-3\n",
    "dic = {'ID': ['kim', 'lee', 'kwon', 'roro', 'hwang'], \n",
    "       'POINT': [15000, 7000, 8000, 12000, 19000]}\n",
    "\n",
    "dic['ID'].append('kang')\n",
    "dic['POINT'].append(7000)\n",
    "\n",
    "cnt = len(dic['ID'])\n",
    "for i in range(cnt):\n",
    "    print('%d. 아이디 : %s, 마일리지 : %d점' % (i+1, dic['ID'][i], dic['POINT'][i]))\n"
   ]
  },
  {
   "cell_type": "code",
   "execution_count": 101,
   "id": "f1102637",
   "metadata": {},
   "outputs": [
    {
     "name": "stdout",
     "output_type": "stream",
     "text": [
      "아이디 : hwang, 마일리지 : 19000점\n"
     ]
    }
   ],
   "source": [
    "# 5-4\n",
    "dic = {'ID': ['kim', 'lee', 'kwon', 'roro', 'hwang'], \n",
    "       'POINT': [15000, 7000, 8000, 12000, 19000]}\n",
    "\n",
    "name = ''\n",
    "max = 0\n",
    "\n",
    "for p in dic['POINT']:\n",
    "    if p > max:\n",
    "        max = p\n",
    "        name = dic['ID'][dic['POINT'].index(p)]\n",
    "print('아이디 : %s, 마일리지 : %d점' % (name, max))\n"
   ]
  },
  {
   "cell_type": "code",
   "execution_count": 119,
   "id": "e68fda43",
   "metadata": {},
   "outputs": [
    {
     "name": "stdout",
     "output_type": "stream",
     "text": [
      "Lee : 1,10,7,2,3\n",
      "Seo : 2,4,7,1,5\n",
      "Kim : 10,3,7,9,5\n",
      "An : 6,8,1,2,5\n"
     ]
    }
   ],
   "source": [
    "# 6-1\n",
    "dic = {'Name': ['Lee', 'Seo', 'Kim', 'An'],\n",
    "      'Card': [[1, 10, 7, 2, 3], [2, 4, 7, 1, 5], [10, 3, 7, 9, 5], [6, 8, 1, 2, 5]]}\n",
    "idx_name = 0\n",
    "for name in dic['Name']:\n",
    "    print('%s : ' % name, end='')\n",
    "    for i in dic['Card'][idx_name]:\n",
    "        print(i,end='')\n",
    "        if dic['Card'][idx_name].index(i) != 4:\n",
    "            print(',', end='')\n",
    "    print()\n",
    "    idx_name += 1"
   ]
  },
  {
   "cell_type": "code",
   "execution_count": 123,
   "id": "d4e381c4",
   "metadata": {},
   "outputs": [
    {
     "name": "stdout",
     "output_type": "stream",
     "text": [
      "Lee : 3\n",
      "Seo : 4\n",
      "Kim : 7\n",
      "An : 5\n"
     ]
    }
   ],
   "source": [
    "# 6-2\n",
    "dic = {'Name': ['Lee', 'Seo', 'Kim', 'An'],\n",
    "      'Card': [[1, 10, 7, 2, 3], [2, 4, 7, 1, 5], [10, 3, 7, 9, 5], [6, 8, 1, 2, 5]]}\n",
    "dic['value'] = []\n",
    "for l in dic['Card']:\n",
    "    l.sort()\n",
    "    dic['value'].append(l[int(5/2)])\n",
    "\n",
    "idx_name = 0\n",
    "for name in dic['Name']:\n",
    "    print('%s : %d' % (name, dic['value'][idx_name]))\n",
    "    idx_name += 1"
   ]
  },
  {
   "cell_type": "code",
   "execution_count": 141,
   "id": "e2a28553",
   "metadata": {},
   "outputs": [
    {
     "name": "stdout",
     "output_type": "stream",
     "text": [
      "----------------------- # 2\n",
      "Avg : 22.25\n",
      "----------------------- # 3\n",
      "Men :  ['Tom', 'Kevin', 'Harry']\n",
      "Women :  ['Sunny']\n",
      "----------------------- # 4\n",
      "Date : 2022-10-22\n",
      "Person : 4\n",
      "top_type :  ['short_sleeve', 'T-shirt', 'shirt']\n",
      "bottom_type :  ['short_pants', 'long_pants']\n"
     ]
    }
   ],
   "source": [
    "# 7-1,2\n",
    "cctv={\n",
    "    \"info\": {\n",
    "        \"date\": \"2022-09-25\",\n",
    "        \"day\": \"sunday\",\n",
    "        \"weather\": \"sunny\"\n",
    "    },\n",
    "    \"annotations\": [\n",
    "        {\n",
    "            \"id\": \"Men_Tom\",\n",
    "            \"age\": 28,\n",
    "            \"top_type\": \"short_sleeve\",\n",
    "            \"top_color\": \"yellow\",\n",
    "            \"bottom_type\": \"short_pants\",\n",
    "            \"bottom_color\": \"black\",\n",
    "        },\n",
    "        {\n",
    "            \"id\": \"Men_Kevin\",\n",
    "            \"age\": 17,\n",
    "            \"top_type\": \"short_sleeve\",\n",
    "            \"top_color\": \"white\",\n",
    "            \"bottom_type\": \"long_pants\",\n",
    "            \"bottom_color\": \"black\",\n",
    "        },\n",
    "        {\n",
    "            \"id\": \"Men_Harry\",\n",
    "            \"age\": 24,\n",
    "            \"top_type\": \"shirt\",\n",
    "            \"top_color\": \"black\",\n",
    "            \"bottom_type\": \"long_pants\",\n",
    "            \"bottom_color\": \"white\",\n",
    "        },\n",
    "        {\n",
    "            \"id\": \"Women_Sunny\",\n",
    "            \"age\": 20,\n",
    "            \"top_type\": \"T-shirt\",\n",
    "            \"top_color\": \"white\",\n",
    "            \"bottom_type\": \"long_pants\",\n",
    "            \"bottom_color\": \"black\",\n",
    "        }\n",
    "    ]\n",
    "}\n",
    "\n",
    "cctv['info']['date'] = '2022-10-22'\n",
    "cctv['info']['day'] = 'saturday'\n",
    "cctv['info']['weather'] = 'sunny'\n",
    "\n",
    "\n",
    "print('----------------------- # 2')\n",
    "age_sum = 0\n",
    "user_cnt = len(cctv['annotations'])    \n",
    "for user in cctv['annotations']:\n",
    "    age_sum += user['age']\n",
    "print('Avg : %0.2f' % (age_sum/user_cnt))\n",
    "\n",
    "\n",
    "print('----------------------- # 3')\n",
    "men = []\n",
    "women = []\n",
    "for user in cctv['annotations']:\n",
    "    if 'Men' in user['id']:\n",
    "        men.append(user['id'][4:])\n",
    "    else:\n",
    "        women.append(user['id'][6:])\n",
    "print('Men : ', men)\n",
    "print('Women : ', women)\n",
    "\n",
    "\n",
    "print('----------------------- # 4')\n",
    "top_type = []\n",
    "bottom_type = []\n",
    "for user in cctv['annotations']:\n",
    "    top_type.append(user['top_type'])\n",
    "    bottom_type.append(user['bottom_type'])\n",
    "\n",
    "top_type = list(set(top_type))\n",
    "bottom_type = list(set(bottom_type))\n",
    "\n",
    "print('Date : %s' % cctv['info']['date'])\n",
    "print('Person : %d' % user_cnt)\n",
    "print('top_type : ', top_type)\n",
    "print('bottom_type : ', bottom_type)"
   ]
  }
 ],
 "metadata": {
  "kernelspec": {
   "display_name": "Python 3 (ipykernel)",
   "language": "python",
   "name": "python3"
  },
  "language_info": {
   "codemirror_mode": {
    "name": "ipython",
    "version": 3
   },
   "file_extension": ".py",
   "mimetype": "text/x-python",
   "name": "python",
   "nbconvert_exporter": "python",
   "pygments_lexer": "ipython3",
   "version": "3.9.13"
  }
 },
 "nbformat": 4,
 "nbformat_minor": 5
}
